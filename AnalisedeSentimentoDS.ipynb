{
 "cells": [
  {
   "cell_type": "markdown",
   "metadata": {},
   "source": [
    "# Analise de Sentimento usando Python.\n",
    "### Introdução\n",
    "\n",
    "Toda introdução e análise sobre este projeto está localizada aqui (URL)"
   ]
  },
  {
   "cell_type": "markdown",
   "metadata": {},
   "source": [
    "## I. Set Up\n",
    "Primeiramente devemos importar as duas primeiras bibliotecas que vamos ultilizar neste projeto, que são Tweepy e Pandas."
   ]
  },
  {
   "cell_type": "code",
   "execution_count": 1,
   "metadata": {},
   "outputs": [],
   "source": [
    "# Importando as Bibliotecas\n",
    "import tweepy\n",
    "import pandas as pd"
   ]
  },
  {
   "cell_type": "code",
   "execution_count": 2,
   "metadata": {},
   "outputs": [],
   "source": [
    "# Autenticação das Chaves e Tokens\n",
    "consumer_key = ''\n",
    "consumer_secret = ''\n",
    "access_token = ''\n",
    "access_token_secret = ''"
   ]
  },
  {
   "cell_type": "markdown",
   "metadata": {},
   "source": [
    "As chaves e tokens são ultizados para a autenticação, sendo vinculada a uma conta de desenvolvedor no Twitter. Ambas a chaves e tokens devem permanecer privadas."
   ]
  },
  {
   "cell_type": "code",
   "execution_count": 3,
   "metadata": {},
   "outputs": [],
   "source": [
    "auth = tweepy.OAuthHandler(consumer_key, consumer_secret)\n",
    "auth.set_access_token(access_token, access_token_secret)"
   ]
  },
  {
   "cell_type": "code",
   "execution_count": 4,
   "metadata": {},
   "outputs": [],
   "source": [
    "api = tweepy.API(auth)"
   ]
  },
  {
   "cell_type": "markdown",
   "metadata": {},
   "source": [
    "Agora podemos testar a funcionalidade da API do Twitter. Fazendo uma solicitação ao servidor para ultizar os dados que precisamos."
   ]
  },
  {
   "cell_type": "code",
   "execution_count": 5,
   "metadata": {
    "scrolled": true
   },
   "outputs": [],
   "source": [
    "public_tweets = api.home_timeline()\n",
    "for tweet in public_tweets:\n",
    "    print(tweet.user.name, tweet.text)"
   ]
  },
  {
   "cell_type": "markdown",
   "metadata": {},
   "source": [
    "## II. Analise de Sentimento\n",
    "\n",
    "Agora buscamos os dados necessários para que a análise seja feita. Optinei por criar uma função que contém o argumento ('hashtag') como entrada e retorna em Data Frame com as informações necessárias."
   ]
  },
  {
   "cell_type": "code",
   "execution_count": 6,
   "metadata": {},
   "outputs": [],
   "source": [
    "# Criação de função para agrupar todas as ações para buscar dados da API (hashtag):\n",
    "def fetch_tweets(hashtag):\n",
    "    tweet_user = []\n",
    "    tweet_hora = []\n",
    "    tweet_string = []\n",
    "   \n",
    "    for tweet in tweepy.Cursor(api.search,q=hashtag, count=1500).items(1500):\n",
    "            if (not tweet.retweeted) and (\"RT @\" not in tweet.text):\n",
    "                if tweet.lang == \"en\":\n",
    "                    tweet_user.append(tweet.user.name)\n",
    "                    tweet_hora.append(tweet.created_at)\n",
    "                    tweet_string.append(tweet.text)\n",
    "                    \n",
    "    df = pd.DataFrame({\"usuário\":tweet_user, \"hora\": tweet_hora, \"tweet\": tweet_string})\n",
    "    return df"
   ]
  },
  {
   "cell_type": "code",
   "execution_count": 7,
   "metadata": {
    "scrolled": true
   },
   "outputs": [],
   "source": [
    "ds_df = fetch_tweets(\"Drive to Survive\")"
   ]
  },
  {
   "cell_type": "code",
   "execution_count": 8,
   "metadata": {
    "scrolled": false
   },
   "outputs": [
    {
     "name": "stdout",
     "output_type": "stream",
     "text": [
      "(488, 3)\n"
     ]
    },
    {
     "data": {
      "text/html": [
       "<div>\n",
       "<style scoped>\n",
       "    .dataframe tbody tr th:only-of-type {\n",
       "        vertical-align: middle;\n",
       "    }\n",
       "\n",
       "    .dataframe tbody tr th {\n",
       "        vertical-align: top;\n",
       "    }\n",
       "\n",
       "    .dataframe thead th {\n",
       "        text-align: right;\n",
       "    }\n",
       "</style>\n",
       "<table border=\"1\" class=\"dataframe\">\n",
       "  <thead>\n",
       "    <tr style=\"text-align: right;\">\n",
       "      <th></th>\n",
       "      <th>usuário</th>\n",
       "      <th>hora</th>\n",
       "      <th>tweet</th>\n",
       "    </tr>\n",
       "  </thead>\n",
       "  <tbody>\n",
       "    <tr>\n",
       "      <th>0</th>\n",
       "      <td>jão 🌊</td>\n",
       "      <td>2021-03-15 19:23:55</td>\n",
       "      <td>@F1 Oscar-worthy race. Deserve 3 episodes on D...</td>\n",
       "    </tr>\n",
       "    <tr>\n",
       "      <th>1</th>\n",
       "      <td>Izzy</td>\n",
       "      <td>2021-03-15 19:22:52</td>\n",
       "      <td>Imagine if drive to survive was around for the...</td>\n",
       "    </tr>\n",
       "    <tr>\n",
       "      <th>2</th>\n",
       "      <td>Roms || I need F1 mutuals 🏎</td>\n",
       "      <td>2021-03-15 19:17:42</td>\n",
       "      <td>I can’t wait for all the meme material Drive T...</td>\n",
       "    </tr>\n",
       "    <tr>\n",
       "      <th>3</th>\n",
       "      <td>⚔️</td>\n",
       "      <td>2021-03-15 19:15:33</td>\n",
       "      <td>Drive to survive at the end of the week https:...</td>\n",
       "    </tr>\n",
       "    <tr>\n",
       "      <th>4</th>\n",
       "      <td>cal 👑</td>\n",
       "      <td>2021-03-15 19:03:25</td>\n",
       "      <td>F1 Drive to Survive and Falcon and the Winter ...</td>\n",
       "    </tr>\n",
       "    <tr>\n",
       "      <th>5</th>\n",
       "      <td>Marco</td>\n",
       "      <td>2021-03-15 19:00:42</td>\n",
       "      <td>Hat jemand Bock auf eine „Drive to Survive“ - ...</td>\n",
       "    </tr>\n",
       "    <tr>\n",
       "      <th>6</th>\n",
       "      <td>OC Movie Reviews</td>\n",
       "      <td>2021-03-15 19:00:29</td>\n",
       "      <td>Formula 1: Drive To Survive – Episode 5, The E...</td>\n",
       "    </tr>\n",
       "    <tr>\n",
       "      <th>7</th>\n",
       "      <td>Zena Hooks</td>\n",
       "      <td>2021-03-15 18:55:34</td>\n",
       "      <td>@EuphemiaSpeaks While I understand the evoluti...</td>\n",
       "    </tr>\n",
       "    <tr>\n",
       "      <th>8</th>\n",
       "      <td>Couch Potato No.1</td>\n",
       "      <td>2021-03-15 18:45:44</td>\n",
       "      <td>@AstonMartinF1 Good to see you in action\\nHope...</td>\n",
       "    </tr>\n",
       "    <tr>\n",
       "      <th>9</th>\n",
       "      <td>Couch Potato No.1</td>\n",
       "      <td>2021-03-15 18:44:22</td>\n",
       "      <td>I see what you did there @netflix @NetflixIndi...</td>\n",
       "    </tr>\n",
       "  </tbody>\n",
       "</table>\n",
       "</div>"
      ],
      "text/plain": [
       "                       usuário                hora  \\\n",
       "0                        jão 🌊 2021-03-15 19:23:55   \n",
       "1                         Izzy 2021-03-15 19:22:52   \n",
       "2  Roms || I need F1 mutuals 🏎 2021-03-15 19:17:42   \n",
       "3                           ⚔️ 2021-03-15 19:15:33   \n",
       "4                        cal 👑 2021-03-15 19:03:25   \n",
       "5                        Marco 2021-03-15 19:00:42   \n",
       "6             OC Movie Reviews 2021-03-15 19:00:29   \n",
       "7                   Zena Hooks 2021-03-15 18:55:34   \n",
       "8            Couch Potato No.1 2021-03-15 18:45:44   \n",
       "9            Couch Potato No.1 2021-03-15 18:44:22   \n",
       "\n",
       "                                               tweet  \n",
       "0  @F1 Oscar-worthy race. Deserve 3 episodes on D...  \n",
       "1  Imagine if drive to survive was around for the...  \n",
       "2  I can’t wait for all the meme material Drive T...  \n",
       "3  Drive to survive at the end of the week https:...  \n",
       "4  F1 Drive to Survive and Falcon and the Winter ...  \n",
       "5  Hat jemand Bock auf eine „Drive to Survive“ - ...  \n",
       "6  Formula 1: Drive To Survive – Episode 5, The E...  \n",
       "7  @EuphemiaSpeaks While I understand the evoluti...  \n",
       "8  @AstonMartinF1 Good to see you in action\\nHope...  \n",
       "9  I see what you did there @netflix @NetflixIndi...  "
      ]
     },
     "execution_count": 8,
     "metadata": {},
     "output_type": "execute_result"
    }
   ],
   "source": [
    "print(ds_df.shape)\n",
    "ds_df.head(10)"
   ]
  },
  {
   "cell_type": "markdown",
   "metadata": {},
   "source": [
    "### Pontuação de Sentimento (Positiva e Negativa)\n",
    "Agora para a tarefa de análise de sentimento será ultilizando a biblioteca chamada TextBlob, que também é responsavel pelo\n",
    "processamento dos dados em formato de texto. Assim será ultilizado também a função lambda para retornar a pontuação de polaridade (positiva ou negativa)."
   ]
  },
  {
   "cell_type": "code",
   "execution_count": 9,
   "metadata": {},
   "outputs": [],
   "source": [
    "from textblob import TextBlob"
   ]
  },
  {
   "cell_type": "code",
   "execution_count": 14,
   "metadata": {},
   "outputs": [
    {
     "name": "stdout",
     "output_type": "stream",
     "text": [
      "Pontuação de Sentimento 1: Sentiment(polarity=0.5, subjectivity=0.6)\n",
      "Pontuação de Sentimento 2: Sentiment(polarity=-0.8, subjectivity=0.9)\n"
     ]
    }
   ],
   "source": [
    "sent_score_1 = TextBlob(\"I really love the upcoming season of Drive to Survive\").sentiment\n",
    "sent_score_2 = TextBlob(\"I really hate the upcoming season of Drive to Survive\").sentiment\n",
    "print(\"Pontuação de Sentimento 1:\", sent_score_1)\n",
    "print(\"Pontuação de Sentimento 2:\", sent_score_2)"
   ]
  },
  {
   "cell_type": "code",
   "execution_count": 15,
   "metadata": {
    "scrolled": false
   },
   "outputs": [
    {
     "name": "stdout",
     "output_type": "stream",
     "text": [
      "                       usuário                hora  \\\n",
      "0                        jão 🌊 2021-03-15 19:23:55   \n",
      "1                         Izzy 2021-03-15 19:22:52   \n",
      "2  Roms || I need F1 mutuals 🏎 2021-03-15 19:17:42   \n",
      "3                           ⚔️ 2021-03-15 19:15:33   \n",
      "4                        cal 👑 2021-03-15 19:03:25   \n",
      "\n",
      "                                               tweet  sentiment  sentimento  \n",
      "0  @F1 Oscar-worthy race. Deserve 3 episodes on D...        0.0         0.0  \n",
      "1  Imagine if drive to survive was around for the...        0.0         0.0  \n",
      "2  I can’t wait for all the meme material Drive T...        0.0         0.0  \n",
      "3  Drive to survive at the end of the week https:...        0.0         0.0  \n",
      "4  F1 Drive to Survive and Falcon and the Winter ...        0.0         0.0  \n"
     ]
    }
   ],
   "source": [
    "ds_df[\"sentimento\"] = ds_df[\"tweet\"].apply(lambda tweet: TextBlob(tweet).sentiment.polarity)\n",
    "print(ds_df.head())"
   ]
  },
  {
   "cell_type": "markdown",
   "metadata": {},
   "source": [
    "Numero total de sentimentos, positivo ou negativo:"
   ]
  },
  {
   "cell_type": "code",
   "execution_count": 16,
   "metadata": {
    "scrolled": true
   },
   "outputs": [
    {
     "name": "stdout",
     "output_type": "stream",
     "text": [
      "Tweets Positivos: 138\n",
      "Tweets Negativos: 44\n"
     ]
    }
   ],
   "source": [
    "# Ultilização de Boolean para diferenciar sentimentos positivos ou negativos no Data Frame.\n",
    "ds_df_pos = ds_df[ds_df[\"sentimento\"] > 0.0]\n",
    "ds_df_neg = ds_df[ds_df[\"sentimento\"] < 0.0]\n",
    "print(\"Tweets Positivos:\", len(ds_df_pos))\n",
    "print(\"Tweets Negativos:\", len(ds_df_neg))"
   ]
  },
  {
   "cell_type": "code",
   "execution_count": 17,
   "metadata": {},
   "outputs": [],
   "source": [
    "def calc_sentimento(hashtag):\n",
    "    df = fetch_tweets(hashtag)\n",
    "    df[\"sentimento\"] = df[\"tweet\"].apply(lambda tweet: TextBlob(tweet).sentiment.polarity)\n",
    "    df_pos = df[df[\"sentimento\"] > 0.0]\n",
    "    df_neg = df[df[\"sentimento\"] < 0.0]\n",
    "    print(\"Tweets Positivos em #{}: \".format(hashtag), len(df_pos))\n",
    "    print(\"Tweets Negativos em #{}: \".format(hashtag), len(df_neg))"
   ]
  },
  {
   "cell_type": "code",
   "execution_count": 18,
   "metadata": {
    "scrolled": false
   },
   "outputs": [
    {
     "name": "stdout",
     "output_type": "stream",
     "text": [
      "Tweets Positivos em #Drive to Survive:  137\n",
      "Tweets Negativos em #Drive to Survive:  42\n"
     ]
    }
   ],
   "source": [
    "calc_sentimento(\"Drive to Survive\")"
   ]
  },
  {
   "cell_type": "markdown",
   "metadata": {},
   "source": [
    "### Visualização de Dados\n",
    "Para visualização dos dados, será usado a biblioteca Matplotlib mostrando os resultados em gráfico de pizza."
   ]
  },
  {
   "cell_type": "code",
   "execution_count": 19,
   "metadata": {},
   "outputs": [],
   "source": [
    "# Importando bibliotecas para plot\n",
    "%matplotlib inline\n",
    "import seaborn as sns\n",
    "import matplotlib.pyplot as plt"
   ]
  },
  {
   "cell_type": "code",
   "execution_count": 20,
   "metadata": {},
   "outputs": [],
   "source": [
    "%config InlineBackend.figure_format ='retina'"
   ]
  },
  {
   "cell_type": "code",
   "execution_count": 21,
   "metadata": {
    "scrolled": false
   },
   "outputs": [
    {
     "data": {
      "image/png": "[encoded data removed]",
      "text/plain": [
       "<Figure size 576x576 with 1 Axes>"
      ]
     },
     "metadata": {
      "image/png": {
       "height": 467,
       "width": 460
      }
     },
     "output_type": "display_data"
    }
   ],
   "source": [
    "fig1, ax1 = plt.subplots(figsize=(8,8))\n",
    "\n",
    "labels = ['Positivo', 'Negativo']\n",
    "sizes = [len(ds_df_pos), len(ds_df_neg)]\n",
    "explode = (0, 0.1)\n",
    "\n",
    "tb_10_green = (44/255,160/255,44/255)\n",
    "tb_10_red = (214/255,39/255,40/255)\n",
    "colors=[tb_10_green, tb_10_red]\n",
    "\n",
    "ax1.pie(sizes, explode=explode, labels=labels, autopct='%1.1f%%', colors=colors, shadow=True, startangle=90)\n",
    "ax1.axis('equal')\n",
    "ax1.set_title(\"Analise de Sentimento no Twitter: #Drive to Surtive\", fontsize=16)\n",
    "    \n",
    "plt.show()"
   ]
  },
  {
   "cell_type": "code",
   "execution_count": 23,
   "metadata": {},
   "outputs": [],
   "source": [
    "# Criando uma função para reunir os plots\n",
    "def draw_sentimento(pos,neg,hashtag):\n",
    "    fig1, ax1 = plt.subplots(figsize=(8,8))\n",
    "    \n",
    "    labels = ['Positivo', 'Negativo']\n",
    "    sizes = [pos,neg]\n",
    "    explode = (0, 0.1) \n",
    "\n",
    "    tb_10_green = (44/255,160/255,44/255)\n",
    "    tb_10_red = (214/255,39/255,40/255)\n",
    "    colors=[tb_10_green, tb_10_red]\n",
    "\n",
    "    ax1.pie(sizes, explode=explode, labels=labels, autopct='%1.1f%%', colors=colors, shadow=True, startangle=90)\n",
    "    ax1.axis('equal')  \n",
    "    plt.show()"
   ]
  },
  {
   "cell_type": "code",
   "execution_count": 24,
   "metadata": {},
   "outputs": [
    {
     "data": {
      "image/png": "[encoded data removed]",
      "text/plain": [
       "<Figure size 576x576 with 1 Axes>"
      ]
     },
     "metadata": {
      "image/png": {
       "height": 449,
       "width": 460
      }
     },
     "output_type": "display_data"
    }
   ],
   "source": [
    "draw_sentimento(len(ds_df_pos), len(ds_df_neg), \"Drive to Survive\")"
   ]
  },
  {
   "cell_type": "markdown",
   "metadata": {},
   "source": [
    "Na primeira analise podemos verificar que 77% dos tweets analisados tem um sentimento bom sobre a próxima temporada de Drive to Survive."
   ]
  },
  {
   "cell_type": "markdown",
   "metadata": {},
   "source": [
    "## III. Analise de Sentimento por Localização\n",
    "Como parte de qualquer esporte, sua popularidade varia de acordo com sua localização. No caso da F1, sua popularidade na Europa é maior que em outros continentes como America do Norte, America do Sul, Asia e etc. Com a API do Twitter podemos verificar e analizar essa informação usando dados de localizações dos Tweets."
   ]
  },
  {
   "cell_type": "code",
   "execution_count": 25,
   "metadata": {},
   "outputs": [],
   "source": [
    "def fetch_tweets(hashtag, locate):\n",
    "    tweet_user = []\n",
    "    tweet_user_location = []\n",
    "    tweet_hora = []\n",
    "    tweet_string = []\n",
    "   \n",
    "    for tweet in tweepy.Cursor(api.search,q=hashtag, count=1500).items(1500):\n",
    "            if (not tweet.retweeted) and ('RT @' not in tweet.text):\n",
    "                if tweet.lang == \"en\":\n",
    "                    tweet_user.append(tweet.user.name)\n",
    "                    tweet_hora.append(tweet.created_at)\n",
    "                    tweet_string.append(tweet.text)\n",
    "                    if locate:\n",
    "                        tweet_user_location.append(tweet.user.location)\n",
    "                        df = pd.DataFrame({'usuário':tweet_user, 'localização':tweet_user_location, 'hora': tweet_hora, 'tweet': tweet_string})\n",
    "                    else:\n",
    "                        df = pd.DataFrame({'usuário':tweet_user, 'hora': tweet_hora, 'tweet': tweet_string})\n",
    "    \n",
    "    return df"
   ]
  },
  {
   "cell_type": "code",
   "execution_count": 26,
   "metadata": {
    "scrolled": true
   },
   "outputs": [],
   "source": [
    "loc_ds_df = fetch_tweets(\"Drive to Survive\",locate=True)"
   ]
  },
  {
   "cell_type": "code",
   "execution_count": 27,
   "metadata": {
    "scrolled": true
   },
   "outputs": [
    {
     "data": {
      "text/plain": [
       "                           146\n",
       "Italy                        9\n",
       "South Africa                 9\n",
       "United Kingdom               5\n",
       "England, United Kingdom      4\n",
       "                          ... \n",
       "  Johannesburg               1\n",
       "Newport Beach, CA            1\n",
       "Mich Again                   1\n",
       "Liverpool, UK                1\n",
       "St Clair, NSW                1\n",
       "Name: localização, Length: 280, dtype: int64"
      ]
     },
     "execution_count": 27,
     "metadata": {},
     "output_type": "execute_result"
    }
   ],
   "source": [
    "loc_ds_df[\"localização\"].value_counts()"
   ]
  },
  {
   "cell_type": "code",
   "execution_count": 28,
   "metadata": {},
   "outputs": [
    {
     "data": {
      "text/plain": [
       "array(['Lyon | Strasbourg', 'Gama, Brasília', 'Northern Ireland', '',\n",
       "       'Abilene, TX', 'Johannesburg', 'San Pedro Alcantara-Malaga',\n",
       "       '20, she/her', \"'The Faraway, Nearby'\", 'San Antonio, TX',\n",
       "       'Avon, Indiana', 'Nairobi', 'North Las Vegas, NV', 'Paris, France',\n",
       "       'Newry, Northern Ireland', 'Indonesia', 'Richardson, TX',\n",
       "       'Prince Frederick, MD', 'Wenatchee, WA', 'Germany // NRW // Moers',\n",
       "       'Earls Colne, Colchester, Essex', 'year 2013', 'she/her',\n",
       "       'she/her | 22', 'Yorkshire and The Humber, England', 'Italy',\n",
       "       'Hometowns: Boston, NYC', 'Oregon, USA', 'New Delhi', 'Naboo ',\n",
       "       'London, United Kingdom', 'Polska', 'Antwerpen, België', 'Brasil',\n",
       "       'London', 'Bouglainval, France', '16, she/her', 'she/her ₊˚.༄ ',\n",
       "       '🇬🇭&🇲🇾', 'oned ◮ skam ◮ glee ◮ ', 'magical night ', 'La Jolla, CA',\n",
       "       'Iceland', 'chile', 'Hanoi, Vietnam', 'she/her ★ 17',\n",
       "       'Putrajaya, Wilayah Persekutuan', 'chicago',\n",
       "       'nc, usa, pale blue dot ', 'Punderdome', 'NJ/NY',\n",
       "       'perth, australia', 'dreaming to be at an f1 track', 'ph', '🇵🇭 🇦🇺',\n",
       "       'London, England', 'Lagos, Nigeria', 'Essex', 'Phillipsburg, NJ',\n",
       "       'Marina Bay, SG', 'Abuja, Nigeria', 'मुंबई, भारत', 'she/her ',\n",
       "       'Bristol/Manchester', 'Jin Hit Entertainment',\n",
       "       'Utrecht, Nederland', 'Bath, England', 'South Africa',\n",
       "       'crying in a corner somewhere ', 'Metcalfe East, Victoria',\n",
       "       'Australia', 'london uk', 'Stan', 'Liverpool', '⭐⭐⭐⭐⭐',\n",
       "       'Nairobi, Kenya ', 'Unavailable ', 'Tamworth, England',\n",
       "       'Kerala, India', '🤡CL🔴WN T🔴WN🤡', 'On the tank of a Street Triple',\n",
       "       'Jakarta Capital Region, Indone', '☉♏︎ ☾♑︎ ↑♎︎ - they/them',\n",
       "       'Liverpool, UK', 'badlands', 'Marchwood, England',\n",
       "       'Hillcrest, South Africa', 'England, United Kingdom',\n",
       "       'Rennes, France', 'india ', 'Johannesburg, South Africa',\n",
       "       'Groningen, Nederland', 'Cologne, Germany', 'East Timor',\n",
       "       'London, he/they', 'she | her', 'Cidade Invicta',\n",
       "       'Slytherin Common Room', 'safety car', 'London/Kent ',\n",
       "       'Peterborough, England', '+60 ', 'M ♡',\n",
       "       'Kota Jogjakarta, Indonesia', 'South of England',\n",
       "       'Les Herbiers, France', 'Karlsruhe, Germany', 'UNIVERSE I AM 🌟',\n",
       "       'United Kingdom', '19 | blm🖤 | she/her', 'India',\n",
       "       'Johannesburg, SA', 'China', 'New Delhi, India',\n",
       "       'Baden-Württemberg, Deutschland', 'Grand Rapids, Michigan',\n",
       "       'Portland, Oregon USA', 'Kampala ', '17 | 🇸🇪 | GR63',\n",
       "       'Milton Keynes, England', 'Los Angeles, CA', 'RPlus Community ❣️',\n",
       "       'Sialkot, Pakistan', 'IL', 'WORLDWIDE', 'Sydney, Australia', 'KL',\n",
       "       'DFW', 'Sammamish, WA', '17, she/her ', 'Pune, India',\n",
       "       'Kampala, Uganda', 'Yulje Bakerie | 🇵🇭', 'Monterrey, México.',\n",
       "       'Chicago, IL', 'Mich Again', 'we out here in the East',\n",
       "       '🤷🏽\\u200d♂️', \"Chandler and Joey's apartement\",\n",
       "       'Newport Beach, CA', 'CBYF! BLACK! LESBIAN! 17!', 'Adelaide, SA',\n",
       "       'United States', 'New Orleans', '16 ★ they she', 'Shinjuku',\n",
       "       'Antarctica', 'The Trap.', 'London, UK',\n",
       "       'Between London and Malta', 'Derby, she/her', 'Ontario, Canada',\n",
       "       'Cleethorpes', 'South Yorkshire', '𝒍𝒐𝒏𝒅𝒐𝒏 ', 'Bury, England',\n",
       "       'Ponta Delgada, Portugal', 'Valencia, Spain',\n",
       "       \"My mom's house, Jamaica.\", 'idhar udhar', 'Wicklow, Ireland',\n",
       "       'Edinburgh, Scotland', 'Birmingham, England', 'Mansfield, England',\n",
       "       '-23.70373043073952, -46.699962', 'Manchester, England',\n",
       "       'St Clair, NSW', 'TN - OH - DC - CLT', 'Guarulhos - SP',\n",
       "       'Jewellery Qtr, Birmingham 🇪🇺', 'DUBLIN',\n",
       "       'Manchester united kingdom', 'Gryffindor Tower-Central Perk',\n",
       "       'Merseyside , England ',\n",
       "       'England 🏴\\U000e0067\\U000e0062\\U000e0065\\U000e006e\\U000e0067\\U000e007f',\n",
       "       'Mansfield', 'Leicester', 'Montevideo, Uruguay',\n",
       "       'Center of the worlds.', 'UK', 'Carpinteria, CA',\n",
       "       'Somewhere Other Than Earth', 'Oxford, England', 'New England',\n",
       "       'England', 'She/her', 'she/her, 18,💗💜💙Bi', 'Marco...',\n",
       "       '6+ feet tall ', 'Cape Town, South Africa', '🗽BKLYN 🗽',\n",
       "       'Republic of Ireland', 'Horley, England', '+256kampala',\n",
       "       'A Global Entity', 'Café', 'Pilsen, Czech Republic',\n",
       "       'My Soul is in Philadelphia', 'St. Pete, FL', 'Calgary, Alberta',\n",
       "       'Illinois, USA', 'London ', 'Netherlands', 'London, Ontari',\n",
       "       'Cloud City ', \"Hell's Kitchen, NYC\", 'Monaco / Hong Kong',\n",
       "       'Swansea', 'north yorkshire', 'Sarasota, FL ', 'uganda',\n",
       "       'Oaxaca,de Juarez Oaxaca.', 'Guadalajara',\n",
       "       'I heard it (JF/ 12.03.2016)', 'Spain', 'Leeds/London',\n",
       "       'the trash', 'Montréal, Qc, Canada', '✧*:･ﾟMV33 LL7 SV5',\n",
       "       'Pronouns: Fernando/Alonso', 'Pontchâteau, France', 'Patna, India',\n",
       "       'Gyöngyös, Hungary', 'LN4 / DR3 🇬🇧', 'She/they',\n",
       "       'CL16•DR3•SP11•PG10•SV5•LS18', 'Canada', 'Malaysia',\n",
       "       '  Johannesburg', '99th precinct.', 'Ipswich, Suffolk',\n",
       "       'Kuala Lumpur, Malaysia', 'NomadLand', 'Buffalo, NY',\n",
       "       'Santiago de Cali, Colombia', 'Melbourne, Australia',\n",
       "       'Darmstadt-Dieburg, Hessen', 'Dunfermline, Scotland',\n",
       "       'Bray, Ireland', 'West London - he/him', '크나큰 ⚡ 밴디트 ⚡ 뉴이스트',\n",
       "       'she/her • 21', 'Guildford, England', 'Brussels',\n",
       "       'West Midlands, England', 'Abu Dhabi', 'Wales, United Kingdom',\n",
       "       'Planet Earth', 'Kraków, Poland', 'watching city, knutsford',\n",
       "       'Hampshire, UK', '🇯🇵', '¡En la tierra del show diario!',\n",
       "       'Sherman Oaks, Los Angeles', 'Nairobi, Kenya', 'Toronto, Ontario',\n",
       "       'she/her 18+ 🇵🇭', 'Eugene, OR', 'Boulder, CO',\n",
       "       'Rotterdam, Netherlands', 'bi | infp | xviii | blm.', 'In your C2',\n",
       "       'San Rafael, Argentina', 'Des Moines, IA', 'suburbs',\n",
       "       'Rio, Cidade Maravilhosa', 'São Paulo, Brasil', 'YEG // LAX',\n",
       "       'LDN/MCR UK', 'Dublin City, Ireland', 'Argentina', 'Vancouver',\n",
       "       'edi // she/her // 21', 'South West, England', 'Glasgow, Scotland',\n",
       "       'Ireland', 'Houghton le spring', '🇧🇭', 'switzerland',\n",
       "       'In harms way'], dtype=object)"
      ]
     },
     "execution_count": 28,
     "metadata": {},
     "output_type": "execute_result"
    }
   ],
   "source": [
    "loc_ds_df[\"localização\"].unique()"
   ]
  },
  {
   "cell_type": "markdown",
   "metadata": {},
   "source": [
    "### Seleção de Localização\n",
    "Nos deparamos com muitas localizações diferentes como por exemplo (London, Newry, Yorkshire e Tamworth) dentre outras cidades do Reino Unido e também muitas outras cidades nos EUA (Los Angeles, NYC, Chicago e Portland). Para selecionar a localização que há interesse será criado um RegEx."
   ]
  },
  {
   "cell_type": "code",
   "execution_count": 45,
   "metadata": {},
   "outputs": [
    {
     "data": {
      "text/html": [
       "<div>\n",
       "<style scoped>\n",
       "    .dataframe tbody tr th:only-of-type {\n",
       "        vertical-align: middle;\n",
       "    }\n",
       "\n",
       "    .dataframe tbody tr th {\n",
       "        vertical-align: top;\n",
       "    }\n",
       "\n",
       "    .dataframe thead th {\n",
       "        text-align: right;\n",
       "    }\n",
       "</style>\n",
       "<table border=\"1\" class=\"dataframe\">\n",
       "  <thead>\n",
       "    <tr style=\"text-align: right;\">\n",
       "      <th></th>\n",
       "      <th>usuário</th>\n",
       "      <th>localização</th>\n",
       "      <th>hora</th>\n",
       "      <th>tweet</th>\n",
       "    </tr>\n",
       "  </thead>\n",
       "  <tbody>\n",
       "    <tr>\n",
       "      <th>2</th>\n",
       "      <td>Izzy</td>\n",
       "      <td>Northern Ireland</td>\n",
       "      <td>2021-03-15 19:22:52</td>\n",
       "      <td>Imagine if drive to survive was around for the...</td>\n",
       "    </tr>\n",
       "    <tr>\n",
       "      <th>23</th>\n",
       "      <td>The Apex Motorsport</td>\n",
       "      <td>Northern Ireland</td>\n",
       "      <td>2021-03-15 17:35:52</td>\n",
       "      <td>Why you NEED to watch Drive to Survive Season ...</td>\n",
       "    </tr>\n",
       "    <tr>\n",
       "      <th>24</th>\n",
       "      <td>Niall Downey</td>\n",
       "      <td>Newry, Northern Ireland</td>\n",
       "      <td>2021-03-15 17:33:57</td>\n",
       "      <td>@julie_ssss @alanGbrereton @GabrielScally @Iri...</td>\n",
       "    </tr>\n",
       "    <tr>\n",
       "      <th>35</th>\n",
       "      <td>Matthew</td>\n",
       "      <td>Yorkshire and The Humber, England</td>\n",
       "      <td>2021-03-15 16:50:52</td>\n",
       "      <td>Can’t wait to see this man on F1 Drive to Surv...</td>\n",
       "    </tr>\n",
       "    <tr>\n",
       "      <th>46</th>\n",
       "      <td>William 🏁 | #WeSayNoToMazepin</td>\n",
       "      <td>London, United Kingdom</td>\n",
       "      <td>2021-03-15 16:24:34</td>\n",
       "      <td>Why do I feel like Vettel is going to be portr...</td>\n",
       "    </tr>\n",
       "    <tr>\n",
       "      <th>54</th>\n",
       "      <td>Jem | Young Sasuke 🐺</td>\n",
       "      <td>London</td>\n",
       "      <td>2021-03-15 15:50:27</td>\n",
       "      <td>Falcon &amp;amp; The Winter Soldier\\nJustice Leagu...</td>\n",
       "    </tr>\n",
       "    <tr>\n",
       "      <th>55</th>\n",
       "      <td>Jem | Young Sasuke 🐺</td>\n",
       "      <td>London</td>\n",
       "      <td>2021-03-15 15:43:49</td>\n",
       "      <td>Justice League: Snyder Cut and Drive to Surviv...</td>\n",
       "    </tr>\n",
       "    <tr>\n",
       "      <th>88</th>\n",
       "      <td>WTF1</td>\n",
       "      <td>London, England</td>\n",
       "      <td>2021-03-15 14:04:36</td>\n",
       "      <td>And if you want to know what moments are cover...</td>\n",
       "    </tr>\n",
       "    <tr>\n",
       "      <th>89</th>\n",
       "      <td>WTF1</td>\n",
       "      <td>London, England</td>\n",
       "      <td>2021-03-15 14:04:04</td>\n",
       "      <td>Season 3 of Drive to Survive drops on Friday. ...</td>\n",
       "    </tr>\n",
       "    <tr>\n",
       "      <th>107</th>\n",
       "      <td>T3.com</td>\n",
       "      <td>Bath, England</td>\n",
       "      <td>2021-03-15 12:42:47</td>\n",
       "      <td>Formula 1: Drive to Survive Season 3 release d...</td>\n",
       "    </tr>\n",
       "    <tr>\n",
       "      <th>117</th>\n",
       "      <td>icilio silva</td>\n",
       "      <td>london uk</td>\n",
       "      <td>2021-03-15 11:50:51</td>\n",
       "      <td>Morning everyone 😁✌🏻10 days till race weekend ...</td>\n",
       "    </tr>\n",
       "    <tr>\n",
       "      <th>123</th>\n",
       "      <td>Puits de connaissance</td>\n",
       "      <td>Liverpool</td>\n",
       "      <td>2021-03-15 11:33:14</td>\n",
       "      <td>Drive to survive vendredi 🥰</td>\n",
       "    </tr>\n",
       "    <tr>\n",
       "      <th>128</th>\n",
       "      <td>Kristin Plant</td>\n",
       "      <td>Tamworth, England</td>\n",
       "      <td>2021-03-15 11:11:44</td>\n",
       "      <td>@SwizzelsMatlow Binge watch Drive to Survive ☺</td>\n",
       "    </tr>\n",
       "    <tr>\n",
       "      <th>138</th>\n",
       "      <td>Danny Miller</td>\n",
       "      <td>Liverpool, UK</td>\n",
       "      <td>2021-03-15 10:23:10</td>\n",
       "      <td>Friday will consist of getting my teaching out...</td>\n",
       "    </tr>\n",
       "    <tr>\n",
       "      <th>141</th>\n",
       "      <td>Jack Crane</td>\n",
       "      <td>Marchwood, England</td>\n",
       "      <td>2021-03-15 10:17:05</td>\n",
       "      <td>It’s Drive to Survive week😍 https://t.co/QM86K...</td>\n",
       "    </tr>\n",
       "    <tr>\n",
       "      <th>144</th>\n",
       "      <td>Annoyingashley</td>\n",
       "      <td>England, United Kingdom</td>\n",
       "      <td>2021-03-15 10:07:29</td>\n",
       "      <td>drive to survive this week guys so hyped 🚗 #ge...</td>\n",
       "    </tr>\n",
       "    <tr>\n",
       "      <th>159</th>\n",
       "      <td>Alfie 🏎🧡</td>\n",
       "      <td>London, he/they</td>\n",
       "      <td>2021-03-15 09:14:29</td>\n",
       "      <td>If you need motivation for the week remember t...</td>\n",
       "    </tr>\n",
       "    <tr>\n",
       "      <th>168</th>\n",
       "      <td>Joe</td>\n",
       "      <td>London/Kent</td>\n",
       "      <td>2021-03-15 08:31:42</td>\n",
       "      <td>19th March will be a big day Drive to Survive ...</td>\n",
       "    </tr>\n",
       "    <tr>\n",
       "      <th>169</th>\n",
       "      <td>Nathan Chadwick</td>\n",
       "      <td>Peterborough, England</td>\n",
       "      <td>2021-03-15 08:18:34</td>\n",
       "      <td>Drive To Survive Season 3 is with us soon - lo...</td>\n",
       "    </tr>\n",
       "    <tr>\n",
       "      <th>174</th>\n",
       "      <td>Dan</td>\n",
       "      <td>South of England</td>\n",
       "      <td>2021-03-15 07:56:48</td>\n",
       "      <td>How the week is lookin. \\n\\nMonday: Filming an...</td>\n",
       "    </tr>\n",
       "    <tr>\n",
       "      <th>201</th>\n",
       "      <td>Rebecca</td>\n",
       "      <td>Milton Keynes, England</td>\n",
       "      <td>2021-03-15 05:50:05</td>\n",
       "      <td>F1:Drive to Survive on Friday. Won’t be oversh...</td>\n",
       "    </tr>\n",
       "    <tr>\n",
       "      <th>235</th>\n",
       "      <td>BusinessGreen</td>\n",
       "      <td>London, UK</td>\n",
       "      <td>2021-03-15 00:07:17</td>\n",
       "      <td>Digitalise to survive: Microsoft energy chief ...</td>\n",
       "    </tr>\n",
       "    <tr>\n",
       "      <th>238</th>\n",
       "      <td>Razmataz-x</td>\n",
       "      <td>Between London and Malta</td>\n",
       "      <td>2021-03-14 23:16:08</td>\n",
       "      <td>2 weeks till our first race in Bahrain. Oh, I ...</td>\n",
       "    </tr>\n",
       "    <tr>\n",
       "      <th>244</th>\n",
       "      <td>mynameissport</td>\n",
       "      <td>London, United Kingdom</td>\n",
       "      <td>2021-03-14 22:31:47</td>\n",
       "      <td>Enjoying watching #F1 Drive to Survive as catc...</td>\n",
       "    </tr>\n",
       "    <tr>\n",
       "      <th>247</th>\n",
       "      <td>🐵ross wallace🐵</td>\n",
       "      <td>Bury, England</td>\n",
       "      <td>2021-03-14 22:16:53</td>\n",
       "      <td>If your in to your F1 then highly recomed the ...</td>\n",
       "    </tr>\n",
       "    <tr>\n",
       "      <th>254</th>\n",
       "      <td>Andréa Henry</td>\n",
       "      <td>Wicklow, Ireland</td>\n",
       "      <td>2021-03-14 21:45:45</td>\n",
       "      <td>@lemachine I don’t have any new episodes of dr...</td>\n",
       "    </tr>\n",
       "    <tr>\n",
       "      <th>255</th>\n",
       "      <td>John Scullion</td>\n",
       "      <td>Edinburgh, Scotland</td>\n",
       "      <td>2021-03-14 21:44:32</td>\n",
       "      <td>@Radionx Drive To Survive on Friday too https:...</td>\n",
       "    </tr>\n",
       "    <tr>\n",
       "      <th>257</th>\n",
       "      <td>Sam</td>\n",
       "      <td>Birmingham, England</td>\n",
       "      <td>2021-03-14 21:41:14</td>\n",
       "      <td>I can feel the happy cry in Pierre Gasly's F1 ...</td>\n",
       "    </tr>\n",
       "    <tr>\n",
       "      <th>258</th>\n",
       "      <td>🎮ThefirstAbyssWatcher🐺</td>\n",
       "      <td>Mansfield, England</td>\n",
       "      <td>2021-03-14 21:36:53</td>\n",
       "      <td>Avengers ps5\\nDrive to survive season 3\\nSnyde...</td>\n",
       "    </tr>\n",
       "    <tr>\n",
       "      <th>262</th>\n",
       "      <td>✨Chris✨</td>\n",
       "      <td>Manchester, England</td>\n",
       "      <td>2021-03-14 21:32:07</td>\n",
       "      <td>Its Drive to survive time on @SkySportsF1 Yeah...</td>\n",
       "    </tr>\n",
       "    <tr>\n",
       "      <th>272</th>\n",
       "      <td>Tyler 💕</td>\n",
       "      <td>Merseyside , England</td>\n",
       "      <td>2021-03-14 20:53:35</td>\n",
       "      <td>@bvnsmo Best way I can describe is a newer fan...</td>\n",
       "    </tr>\n",
       "    <tr>\n",
       "      <th>273</th>\n",
       "      <td>Martyn Clough 🏁🏁🇬🇧🇮🇹🏁🏁</td>\n",
       "      <td>England 🏴󠁧󠁢󠁥󠁮󠁧󠁿</td>\n",
       "      <td>2021-03-14 20:51:16</td>\n",
       "      <td>I'm FINALLY going to watch season #1 &amp;amp; #2 ...</td>\n",
       "    </tr>\n",
       "    <tr>\n",
       "      <th>280</th>\n",
       "      <td>Sky Sports F1</td>\n",
       "      <td>UK</td>\n",
       "      <td>2021-03-14 20:30:00</td>\n",
       "      <td>🗣\"I didn't forget, I didn't care!\" 😂\\n\\n@HaasF...</td>\n",
       "    </tr>\n",
       "    <tr>\n",
       "      <th>284</th>\n",
       "      <td>Toby Durant</td>\n",
       "      <td>Oxford, England</td>\n",
       "      <td>2021-03-14 20:22:41</td>\n",
       "      <td>Les than a week until Drive To Survive\\n\\n2 we...</td>\n",
       "    </tr>\n",
       "    <tr>\n",
       "      <th>288</th>\n",
       "      <td>pblitt</td>\n",
       "      <td>New England</td>\n",
       "      <td>2021-03-14 20:11:20</td>\n",
       "      <td>@rise_alien @JohnCav69828547 When I moved to M...</td>\n",
       "    </tr>\n",
       "    <tr>\n",
       "      <th>289</th>\n",
       "      <td>Chris Redfield</td>\n",
       "      <td>England</td>\n",
       "      <td>2021-03-14 20:00:23</td>\n",
       "      <td>@FormulaMiguel @McLarenF1 @RlCClARDO @BAH_Int_...</td>\n",
       "    </tr>\n",
       "    <tr>\n",
       "      <th>299</th>\n",
       "      <td>Sky Sports F1</td>\n",
       "      <td>UK</td>\n",
       "      <td>2021-03-14 19:30:00</td>\n",
       "      <td>Testing may be over... 🏁\\n\\nBut there's still ...</td>\n",
       "    </tr>\n",
       "    <tr>\n",
       "      <th>302</th>\n",
       "      <td>elle ⚡️</td>\n",
       "      <td>Republic of Ireland</td>\n",
       "      <td>2021-03-14 19:11:40</td>\n",
       "      <td>Drive to survive on Friday will get my through...</td>\n",
       "    </tr>\n",
       "    <tr>\n",
       "      <th>306</th>\n",
       "      <td>Kingflipper</td>\n",
       "      <td>England, United Kingdom</td>\n",
       "      <td>2021-03-14 18:59:48</td>\n",
       "      <td>F2 Subscriber Series Live - Monaco - Drive To ...</td>\n",
       "    </tr>\n",
       "    <tr>\n",
       "      <th>310</th>\n",
       "      <td>Edward Hunter</td>\n",
       "      <td>Horley, England</td>\n",
       "      <td>2021-03-14 18:44:02</td>\n",
       "      <td>@Jack_Webb08 @ohitssxph Netflix were filming h...</td>\n",
       "    </tr>\n",
       "    <tr>\n",
       "      <th>324</th>\n",
       "      <td>KayleighYellow</td>\n",
       "      <td>London</td>\n",
       "      <td>2021-03-14 17:56:44</td>\n",
       "      <td>Just caught up on Drive to Survive, cant wait ...</td>\n",
       "    </tr>\n",
       "    <tr>\n",
       "      <th>326</th>\n",
       "      <td>Millsy</td>\n",
       "      <td>London, Ontari</td>\n",
       "      <td>2021-03-14 17:52:14</td>\n",
       "      <td>If you have come in from the Drive To Survive ...</td>\n",
       "    </tr>\n",
       "    <tr>\n",
       "      <th>343</th>\n",
       "      <td>Sky Sports</td>\n",
       "      <td>Leeds/London</td>\n",
       "      <td>2021-03-14 17:01:00</td>\n",
       "      <td>Drive to Survive on Sky Sports F1 📺\\n\\nSeasons...</td>\n",
       "    </tr>\n",
       "    <tr>\n",
       "      <th>380</th>\n",
       "      <td>驰海东</td>\n",
       "      <td>England</td>\n",
       "      <td>2021-03-14 14:27:36</td>\n",
       "      <td>@NUFC360 Brighton will beat us, they have tact...</td>\n",
       "    </tr>\n",
       "    <tr>\n",
       "      <th>388</th>\n",
       "      <td>Sammy</td>\n",
       "      <td>Dunfermline, Scotland</td>\n",
       "      <td>2021-03-14 13:03:51</td>\n",
       "      <td>Beyond the gird and drive to survive on Wednes...</td>\n",
       "    </tr>\n",
       "    <tr>\n",
       "      <th>389</th>\n",
       "      <td>Ben Quinn</td>\n",
       "      <td>Bray, Ireland</td>\n",
       "      <td>2021-03-14 13:00:53</td>\n",
       "      <td>@DigglerBarnes @DannyM59418090 @alison_pannell...</td>\n",
       "    </tr>\n",
       "    <tr>\n",
       "      <th>390</th>\n",
       "      <td>Jas</td>\n",
       "      <td>West London - he/him</td>\n",
       "      <td>2021-03-14 13:00:07</td>\n",
       "      <td>Drive to Survive season 3 and Falcon &amp;amp; The...</td>\n",
       "    </tr>\n",
       "    <tr>\n",
       "      <th>394</th>\n",
       "      <td>Jay</td>\n",
       "      <td>London, England</td>\n",
       "      <td>2021-03-14 12:34:55</td>\n",
       "      <td>@CiaranCPFC Perfect time to invest with soo ma...</td>\n",
       "    </tr>\n",
       "    <tr>\n",
       "      <th>398</th>\n",
       "      <td>F1-Nutcase</td>\n",
       "      <td>Guildford, England</td>\n",
       "      <td>2021-03-14 12:20:23</td>\n",
       "      <td>@SoniaRomero Wait.... *checks calender \\n\\nYes...</td>\n",
       "    </tr>\n",
       "    <tr>\n",
       "      <th>403</th>\n",
       "      <td>PennineWayfarer 🇬🇧 💙</td>\n",
       "      <td>England, United Kingdom</td>\n",
       "      <td>2021-03-14 12:03:15</td>\n",
       "      <td>@LabourAreToast Don't forget the £1 million sp...</td>\n",
       "    </tr>\n",
       "    <tr>\n",
       "      <th>408</th>\n",
       "      <td>Sky Sports F1</td>\n",
       "      <td>UK</td>\n",
       "      <td>2021-03-14 11:48:24</td>\n",
       "      <td>🚨 Tonight 🚨\\n\\nDrive to Survive on Sky Sports ...</td>\n",
       "    </tr>\n",
       "    <tr>\n",
       "      <th>409</th>\n",
       "      <td>GDG</td>\n",
       "      <td>London, England</td>\n",
       "      <td>2021-03-14 11:48:12</td>\n",
       "      <td>@CarolineRussell @NBreadhouse @MBTom_co_uk @Ki...</td>\n",
       "    </tr>\n",
       "    <tr>\n",
       "      <th>413</th>\n",
       "      <td>Pollyann 🎼🎶</td>\n",
       "      <td>West Midlands, England</td>\n",
       "      <td>2021-03-14 11:25:29</td>\n",
       "      <td>I’m really looking forward to Friday because t...</td>\n",
       "    </tr>\n",
       "    <tr>\n",
       "      <th>425</th>\n",
       "      <td>Paul Reynolds</td>\n",
       "      <td>Hampshire, UK</td>\n",
       "      <td>2021-03-14 09:36:37</td>\n",
       "      <td>@VanessaAtalanta In short, the vaccinated can ...</td>\n",
       "    </tr>\n",
       "    <tr>\n",
       "      <th>428</th>\n",
       "      <td>Phillipb</td>\n",
       "      <td>England, United Kingdom</td>\n",
       "      <td>2021-03-14 09:25:07</td>\n",
       "      <td>@TRL_Limitless It’s definitely going to be sup...</td>\n",
       "    </tr>\n",
       "    <tr>\n",
       "      <th>456</th>\n",
       "      <td>Nathan</td>\n",
       "      <td>LDN/MCR UK</td>\n",
       "      <td>2021-03-14 00:28:01</td>\n",
       "      <td>holy shit\\n\\nan f1 driver is rumoured to be th...</td>\n",
       "    </tr>\n",
       "    <tr>\n",
       "      <th>457</th>\n",
       "      <td>Marty Meany</td>\n",
       "      <td>Dublin City, Ireland</td>\n",
       "      <td>2021-03-14 00:23:50</td>\n",
       "      <td>The documentary is great. The behind the scene...</td>\n",
       "    </tr>\n",
       "    <tr>\n",
       "      <th>466</th>\n",
       "      <td>Decwhit123456@gmail.</td>\n",
       "      <td>South West, England</td>\n",
       "      <td>2021-03-13 23:22:00</td>\n",
       "      <td>@MrRoflWaffles @MrRoflWaffles I have watch Wan...</td>\n",
       "    </tr>\n",
       "    <tr>\n",
       "      <th>467</th>\n",
       "      <td>Chris Stewart</td>\n",
       "      <td>Glasgow, Scotland</td>\n",
       "      <td>2021-03-13 23:06:43</td>\n",
       "      <td>We don't even have Season 3 of Drive to Surviv...</td>\n",
       "    </tr>\n",
       "    <tr>\n",
       "      <th>474</th>\n",
       "      <td>Gordon Manning</td>\n",
       "      <td>Ireland</td>\n",
       "      <td>2021-03-13 22:03:47</td>\n",
       "      <td>@tommy20times He sure was, Tommy. If you get a...</td>\n",
       "    </tr>\n",
       "  </tbody>\n",
       "</table>\n",
       "</div>"
      ],
      "text/plain": [
       "                           usuário                        localização  \\\n",
       "2                             Izzy                   Northern Ireland   \n",
       "23             The Apex Motorsport                   Northern Ireland   \n",
       "24                    Niall Downey            Newry, Northern Ireland   \n",
       "35                         Matthew  Yorkshire and The Humber, England   \n",
       "46   William 🏁 | #WeSayNoToMazepin             London, United Kingdom   \n",
       "54            Jem | Young Sasuke 🐺                             London   \n",
       "55            Jem | Young Sasuke 🐺                             London   \n",
       "88                            WTF1                    London, England   \n",
       "89                            WTF1                    London, England   \n",
       "107                         T3.com                      Bath, England   \n",
       "117                   icilio silva                          london uk   \n",
       "123          Puits de connaissance                          Liverpool   \n",
       "128                  Kristin Plant                  Tamworth, England   \n",
       "138                   Danny Miller                      Liverpool, UK   \n",
       "141                     Jack Crane                 Marchwood, England   \n",
       "144                 Annoyingashley            England, United Kingdom   \n",
       "159                       Alfie 🏎🧡                    London, he/they   \n",
       "168                            Joe                       London/Kent    \n",
       "169                Nathan Chadwick              Peterborough, England   \n",
       "174                            Dan                   South of England   \n",
       "201                        Rebecca             Milton Keynes, England   \n",
       "235                  BusinessGreen                         London, UK   \n",
       "238                     Razmataz-x           Between London and Malta   \n",
       "244                  mynameissport             London, United Kingdom   \n",
       "247                 🐵ross wallace🐵                      Bury, England   \n",
       "254                   Andréa Henry                   Wicklow, Ireland   \n",
       "255                  John Scullion                Edinburgh, Scotland   \n",
       "257                            Sam                Birmingham, England   \n",
       "258         🎮ThefirstAbyssWatcher🐺                 Mansfield, England   \n",
       "262                        ✨Chris✨                Manchester, England   \n",
       "272                        Tyler 💕              Merseyside , England    \n",
       "273         Martyn Clough 🏁🏁🇬🇧🇮🇹🏁🏁                    England 🏴󠁧󠁢󠁥󠁮󠁧󠁿   \n",
       "280                  Sky Sports F1                                 UK   \n",
       "284                    Toby Durant                    Oxford, England   \n",
       "288                         pblitt                        New England   \n",
       "289                 Chris Redfield                            England   \n",
       "299                  Sky Sports F1                                 UK   \n",
       "302                        elle ⚡️                Republic of Ireland   \n",
       "306                    Kingflipper            England, United Kingdom   \n",
       "310                  Edward Hunter                    Horley, England   \n",
       "324                 KayleighYellow                            London    \n",
       "326                         Millsy                     London, Ontari   \n",
       "343                     Sky Sports                       Leeds/London   \n",
       "380                            驰海东                            England   \n",
       "388                          Sammy              Dunfermline, Scotland   \n",
       "389                      Ben Quinn                      Bray, Ireland   \n",
       "390                            Jas               West London - he/him   \n",
       "394                            Jay                    London, England   \n",
       "398                     F1-Nutcase                 Guildford, England   \n",
       "403           PennineWayfarer 🇬🇧 💙            England, United Kingdom   \n",
       "408                  Sky Sports F1                                 UK   \n",
       "409                            GDG                    London, England   \n",
       "413                    Pollyann 🎼🎶             West Midlands, England   \n",
       "425                  Paul Reynolds                      Hampshire, UK   \n",
       "428                       Phillipb            England, United Kingdom   \n",
       "456                         Nathan                         LDN/MCR UK   \n",
       "457                    Marty Meany               Dublin City, Ireland   \n",
       "466           Decwhit123456@gmail.                South West, England   \n",
       "467                  Chris Stewart                  Glasgow, Scotland   \n",
       "474                 Gordon Manning                            Ireland   \n",
       "\n",
       "                   hora                                              tweet  \n",
       "2   2021-03-15 19:22:52  Imagine if drive to survive was around for the...  \n",
       "23  2021-03-15 17:35:52  Why you NEED to watch Drive to Survive Season ...  \n",
       "24  2021-03-15 17:33:57  @julie_ssss @alanGbrereton @GabrielScally @Iri...  \n",
       "35  2021-03-15 16:50:52  Can’t wait to see this man on F1 Drive to Surv...  \n",
       "46  2021-03-15 16:24:34  Why do I feel like Vettel is going to be portr...  \n",
       "54  2021-03-15 15:50:27  Falcon &amp; The Winter Soldier\\nJustice Leagu...  \n",
       "55  2021-03-15 15:43:49  Justice League: Snyder Cut and Drive to Surviv...  \n",
       "88  2021-03-15 14:04:36  And if you want to know what moments are cover...  \n",
       "89  2021-03-15 14:04:04  Season 3 of Drive to Survive drops on Friday. ...  \n",
       "107 2021-03-15 12:42:47  Formula 1: Drive to Survive Season 3 release d...  \n",
       "117 2021-03-15 11:50:51  Morning everyone 😁✌🏻10 days till race weekend ...  \n",
       "123 2021-03-15 11:33:14                        Drive to survive vendredi 🥰  \n",
       "128 2021-03-15 11:11:44     @SwizzelsMatlow Binge watch Drive to Survive ☺  \n",
       "138 2021-03-15 10:23:10  Friday will consist of getting my teaching out...  \n",
       "141 2021-03-15 10:17:05  It’s Drive to Survive week😍 https://t.co/QM86K...  \n",
       "144 2021-03-15 10:07:29  drive to survive this week guys so hyped 🚗 #ge...  \n",
       "159 2021-03-15 09:14:29  If you need motivation for the week remember t...  \n",
       "168 2021-03-15 08:31:42  19th March will be a big day Drive to Survive ...  \n",
       "169 2021-03-15 08:18:34  Drive To Survive Season 3 is with us soon - lo...  \n",
       "174 2021-03-15 07:56:48  How the week is lookin. \\n\\nMonday: Filming an...  \n",
       "201 2021-03-15 05:50:05  F1:Drive to Survive on Friday. Won’t be oversh...  \n",
       "235 2021-03-15 00:07:17  Digitalise to survive: Microsoft energy chief ...  \n",
       "238 2021-03-14 23:16:08  2 weeks till our first race in Bahrain. Oh, I ...  \n",
       "244 2021-03-14 22:31:47  Enjoying watching #F1 Drive to Survive as catc...  \n",
       "247 2021-03-14 22:16:53  If your in to your F1 then highly recomed the ...  \n",
       "254 2021-03-14 21:45:45  @lemachine I don’t have any new episodes of dr...  \n",
       "255 2021-03-14 21:44:32  @Radionx Drive To Survive on Friday too https:...  \n",
       "257 2021-03-14 21:41:14  I can feel the happy cry in Pierre Gasly's F1 ...  \n",
       "258 2021-03-14 21:36:53  Avengers ps5\\nDrive to survive season 3\\nSnyde...  \n",
       "262 2021-03-14 21:32:07  Its Drive to survive time on @SkySportsF1 Yeah...  \n",
       "272 2021-03-14 20:53:35  @bvnsmo Best way I can describe is a newer fan...  \n",
       "273 2021-03-14 20:51:16  I'm FINALLY going to watch season #1 &amp; #2 ...  \n",
       "280 2021-03-14 20:30:00  🗣\"I didn't forget, I didn't care!\" 😂\\n\\n@HaasF...  \n",
       "284 2021-03-14 20:22:41  Les than a week until Drive To Survive\\n\\n2 we...  \n",
       "288 2021-03-14 20:11:20  @rise_alien @JohnCav69828547 When I moved to M...  \n",
       "289 2021-03-14 20:00:23  @FormulaMiguel @McLarenF1 @RlCClARDO @BAH_Int_...  \n",
       "299 2021-03-14 19:30:00  Testing may be over... 🏁\\n\\nBut there's still ...  \n",
       "302 2021-03-14 19:11:40  Drive to survive on Friday will get my through...  \n",
       "306 2021-03-14 18:59:48  F2 Subscriber Series Live - Monaco - Drive To ...  \n",
       "310 2021-03-14 18:44:02  @Jack_Webb08 @ohitssxph Netflix were filming h...  \n",
       "324 2021-03-14 17:56:44  Just caught up on Drive to Survive, cant wait ...  \n",
       "326 2021-03-14 17:52:14  If you have come in from the Drive To Survive ...  \n",
       "343 2021-03-14 17:01:00  Drive to Survive on Sky Sports F1 📺\\n\\nSeasons...  \n",
       "380 2021-03-14 14:27:36  @NUFC360 Brighton will beat us, they have tact...  \n",
       "388 2021-03-14 13:03:51  Beyond the gird and drive to survive on Wednes...  \n",
       "389 2021-03-14 13:00:53  @DigglerBarnes @DannyM59418090 @alison_pannell...  \n",
       "390 2021-03-14 13:00:07  Drive to Survive season 3 and Falcon &amp; The...  \n",
       "394 2021-03-14 12:34:55  @CiaranCPFC Perfect time to invest with soo ma...  \n",
       "398 2021-03-14 12:20:23  @SoniaRomero Wait.... *checks calender \\n\\nYes...  \n",
       "403 2021-03-14 12:03:15  @LabourAreToast Don't forget the £1 million sp...  \n",
       "408 2021-03-14 11:48:24  🚨 Tonight 🚨\\n\\nDrive to Survive on Sky Sports ...  \n",
       "409 2021-03-14 11:48:12  @CarolineRussell @NBreadhouse @MBTom_co_uk @Ki...  \n",
       "413 2021-03-14 11:25:29  I’m really looking forward to Friday because t...  \n",
       "425 2021-03-14 09:36:37  @VanessaAtalanta In short, the vaccinated can ...  \n",
       "428 2021-03-14 09:25:07  @TRL_Limitless It’s definitely going to be sup...  \n",
       "456 2021-03-14 00:28:01  holy shit\\n\\nan f1 driver is rumoured to be th...  \n",
       "457 2021-03-14 00:23:50  The documentary is great. The behind the scene...  \n",
       "466 2021-03-13 23:22:00  @MrRoflWaffles @MrRoflWaffles I have watch Wan...  \n",
       "467 2021-03-13 23:06:43  We don't even have Season 3 of Drive to Surviv...  \n",
       "474 2021-03-13 22:03:47  @tommy20times He sure was, Tommy. If you get a...  "
      ]
     },
     "execution_count": 45,
     "metadata": {},
     "output_type": "execute_result"
    }
   ],
   "source": [
    "import re\n",
    "uk_pattern = r\"\\bEngland\\b|\\bUK\\b|\\bLondon\\b|\\bScotland\\b|\\bIreland\\b|\\bLiverpool\\b\"\n",
    "uk_ds_df = loc_ds_df.copy()\n",
    "uk_ds_df = uk_ds_df[uk_ds_df[\"localização\"].str.contains(uk_pattern,flags=re.I)]\n",
    "uk_ds_df"
   ]
  },
  {
   "cell_type": "code",
   "execution_count": 36,
   "metadata": {
    "scrolled": true
   },
   "outputs": [
    {
     "data": {
      "text/html": [
       "<div>\n",
       "<style scoped>\n",
       "    .dataframe tbody tr th:only-of-type {\n",
       "        vertical-align: middle;\n",
       "    }\n",
       "\n",
       "    .dataframe tbody tr th {\n",
       "        vertical-align: top;\n",
       "    }\n",
       "\n",
       "    .dataframe thead th {\n",
       "        text-align: right;\n",
       "    }\n",
       "</style>\n",
       "<table border=\"1\" class=\"dataframe\">\n",
       "  <thead>\n",
       "    <tr style=\"text-align: right;\">\n",
       "      <th></th>\n",
       "      <th>usuário</th>\n",
       "      <th>localização</th>\n",
       "      <th>hora</th>\n",
       "      <th>tweet</th>\n",
       "    </tr>\n",
       "  </thead>\n",
       "  <tbody>\n",
       "    <tr>\n",
       "      <th>38</th>\n",
       "      <td>#TheOnlyWayOutIsThrough</td>\n",
       "      <td>Hometowns: Boston, NYC</td>\n",
       "      <td>2021-03-15 16:46:23</td>\n",
       "      <td>@nypost #BodyCam\\nthis headline scared the shi...</td>\n",
       "    </tr>\n",
       "    <tr>\n",
       "      <th>39</th>\n",
       "      <td>kailee</td>\n",
       "      <td>Oregon, USA</td>\n",
       "      <td>2021-03-15 16:45:06</td>\n",
       "      <td>so excited that season 3 of Drive to Survive c...</td>\n",
       "    </tr>\n",
       "    <tr>\n",
       "      <th>68</th>\n",
       "      <td>Taylor Joyce</td>\n",
       "      <td>La Jolla, CA</td>\n",
       "      <td>2021-03-15 14:56:05</td>\n",
       "      <td>Just read the breakdown of “Drive to Survive” ...</td>\n",
       "    </tr>\n",
       "    <tr>\n",
       "      <th>75</th>\n",
       "      <td>klexos</td>\n",
       "      <td>chicago</td>\n",
       "      <td>2021-03-15 14:37:24</td>\n",
       "      <td>@Evosp3c cant wait for the new drive to surviv...</td>\n",
       "    </tr>\n",
       "    <tr>\n",
       "      <th>76</th>\n",
       "      <td>a dave in the life</td>\n",
       "      <td>nc, usa, pale blue dot</td>\n",
       "      <td>2021-03-15 14:36:40</td>\n",
       "      <td>@gorycoryhorror i remember when the same was s...</td>\n",
       "    </tr>\n",
       "    <tr>\n",
       "      <th>197</th>\n",
       "      <td>Rich Burroughs</td>\n",
       "      <td>Portland, Oregon USA</td>\n",
       "      <td>2021-03-15 06:19:39</td>\n",
       "      <td>Drive to Survive season 3 drops on Friday 👀</td>\n",
       "    </tr>\n",
       "    <tr>\n",
       "      <th>219</th>\n",
       "      <td>David Tolosa</td>\n",
       "      <td>Chicago, IL</td>\n",
       "      <td>2021-03-15 03:30:30</td>\n",
       "      <td>This Friday we get TFATWS and DRIVE TO SURVIVE...</td>\n",
       "    </tr>\n",
       "    <tr>\n",
       "      <th>323</th>\n",
       "      <td>Mike</td>\n",
       "      <td>Illinois, USA</td>\n",
       "      <td>2021-03-14 18:01:32</td>\n",
       "      <td>@MariaKj1991 So pumped for Drive to Survive!</td>\n",
       "    </tr>\n",
       "    <tr>\n",
       "      <th>328</th>\n",
       "      <td>Corey Masisak</td>\n",
       "      <td>Hell's Kitchen, NYC</td>\n",
       "      <td>2021-03-14 17:44:48</td>\n",
       "      <td>🚨Also five days until Season 3 of Drive To Sur...</td>\n",
       "    </tr>\n",
       "    <tr>\n",
       "      <th>429</th>\n",
       "      <td>Reality Show (esp)</td>\n",
       "      <td>¡En la tierra del show diario!</td>\n",
       "      <td>2021-03-14 08:27:20</td>\n",
       "      <td>#Documental F1 Drive to Survive 3: Analizamos ...</td>\n",
       "    </tr>\n",
       "  </tbody>\n",
       "</table>\n",
       "</div>"
      ],
      "text/plain": [
       "                     usuário                     localização  \\\n",
       "38   #TheOnlyWayOutIsThrough          Hometowns: Boston, NYC   \n",
       "39                    kailee                     Oregon, USA   \n",
       "68              Taylor Joyce                    La Jolla, CA   \n",
       "75                    klexos                         chicago   \n",
       "76        a dave in the life         nc, usa, pale blue dot    \n",
       "197           Rich Burroughs            Portland, Oregon USA   \n",
       "219             David Tolosa                     Chicago, IL   \n",
       "323                     Mike                   Illinois, USA   \n",
       "328            Corey Masisak             Hell's Kitchen, NYC   \n",
       "429       Reality Show (esp)  ¡En la tierra del show diario!   \n",
       "\n",
       "                   hora                                              tweet  \n",
       "38  2021-03-15 16:46:23  @nypost #BodyCam\\nthis headline scared the shi...  \n",
       "39  2021-03-15 16:45:06  so excited that season 3 of Drive to Survive c...  \n",
       "68  2021-03-15 14:56:05  Just read the breakdown of “Drive to Survive” ...  \n",
       "75  2021-03-15 14:37:24  @Evosp3c cant wait for the new drive to surviv...  \n",
       "76  2021-03-15 14:36:40  @gorycoryhorror i remember when the same was s...  \n",
       "197 2021-03-15 06:19:39        Drive to Survive season 3 drops on Friday 👀  \n",
       "219 2021-03-15 03:30:30  This Friday we get TFATWS and DRIVE TO SURVIVE...  \n",
       "323 2021-03-14 18:01:32       @MariaKj1991 So pumped for Drive to Survive!  \n",
       "328 2021-03-14 17:44:48  🚨Also five days until Season 3 of Drive To Sur...  \n",
       "429 2021-03-14 08:27:20  #Documental F1 Drive to Survive 3: Analizamos ...  "
      ]
     },
     "execution_count": 36,
     "metadata": {},
     "output_type": "execute_result"
    }
   ],
   "source": [
    "us_pattern = r\"\\bUSA\\b|\\bUS\\b|\\bNYC\\b|\\bLA\\b|\\bChicago\\b|\\bBoston\\b\"\n",
    "us_ds_df = loc_ds_df.copy()\n",
    "us_ds_df = us_ds_df[us_ds_df[\"localização\"].str.contains(us_pattern,flags=re.I)]\n",
    "us_ds_df"
   ]
  },
  {
   "cell_type": "markdown",
   "metadata": {},
   "source": [
    "### Pontuação e Visualização de Dados\n",
    "Com a função 'calc_sentimento' podemos passar a localização baseada no Data Frame que são Reino Unido (Inglaterra, Escosia e Irlanda) e EUA como argumento."
   ]
  },
  {
   "cell_type": "code",
   "execution_count": 37,
   "metadata": {},
   "outputs": [],
   "source": [
    "def calc_sentimento(hashtag, dataframe):\n",
    "    df = dataframe\n",
    "    df[\"sentimento\"] = df[\"tweet\"].apply(lambda tweet: TextBlob(tweet).sentiment.polarity)\n",
    "    df_pos = df[df[\"sentimento\"] > 0.0]\n",
    "    df_neg = df[df[\"sentimento\"] < 0.0]\n",
    "    print(\"Tweets Positivos para #{}: \".format(hashtag), len(df_pos))\n",
    "    print(\"Tweets Negativos para #{}: \".format(hashtag), len(df_neg))\n",
    "    return (len(df_pos), len(df_neg))"
   ]
  },
  {
   "cell_type": "code",
   "execution_count": 38,
   "metadata": {
    "scrolled": true
   },
   "outputs": [
    {
     "name": "stdout",
     "output_type": "stream",
     "text": [
      "Tweets Positivos para #Drive to Survive:  23\n",
      "Tweets Negativos para #Drive to Survive:  4\n",
      "(23, 4)\n"
     ]
    }
   ],
   "source": [
    "uk_sentimento = calc_sentimento(\"Drive to Survive\", uk_ds_df)\n",
    "print(uk_sentimento)"
   ]
  },
  {
   "cell_type": "code",
   "execution_count": 46,
   "metadata": {},
   "outputs": [
    {
     "data": {
      "image/png": "[encoded data removed]",
      "text/plain": [
       "<Figure size 576x576 with 1 Axes>"
      ]
     },
     "metadata": {
      "image/png": {
       "height": 449,
       "width": 460
      }
     },
     "output_type": "display_data"
    },
    {
     "data": {
      "text/plain": [
       "<Figure size 432x288 with 0 Axes>"
      ]
     },
     "metadata": {},
     "output_type": "display_data"
    }
   ],
   "source": [
    "draw_sentimento(uk_sentimento[0], uk_sentimento[1], \"Drive to Survive\")\n",
    "plt.savefig(\"sentimento_uk.png\")"
   ]
  },
  {
   "cell_type": "code",
   "execution_count": 40,
   "metadata": {
    "scrolled": true
   },
   "outputs": [
    {
     "name": "stdout",
     "output_type": "stream",
     "text": [
      "Tweets Positivos para #Drive to Survive:  4\n",
      "Tweets Negativos para #Drive to Survive:  0\n",
      "(4, 0)\n"
     ]
    }
   ],
   "source": [
    "us_sentimento = calc_sentimento(\"Drive to Survive\", us_ds_df)\n",
    "print(us_sentimento)"
   ]
  },
  {
   "cell_type": "code",
   "execution_count": 47,
   "metadata": {
    "scrolled": false
   },
   "outputs": [
    {
     "data": {
      "image/png": "[encoded data removed]",
      "text/plain": [
       "<Figure size 576x576 with 1 Axes>"
      ]
     },
     "metadata": {
      "image/png": {
       "height": 456,
       "width": 460
      }
     },
     "output_type": "display_data"
    },
    {
     "data": {
      "text/plain": [
       "<Figure size 432x288 with 0 Axes>"
      ]
     },
     "metadata": {},
     "output_type": "display_data"
    }
   ],
   "source": [
    "draw_sentimento(us_sentimento[0], us_sentimento[1], \"Drive to Survive\")\n",
    "plt.savefig(\"sentimento_usa.png\")"
   ]
  },
  {
   "cell_type": "markdown",
   "metadata": {},
   "source": [
    "# Analise\n",
    "\n",
    "Mesmo com poucos Tweets chegamos a conclusão que o sentimento do publico com a nova temporada de Drive to Survive é muito positiva. Após o trailer promocional, no Reino Unido (Inglaterra, Irlanda e Escocia) 85.2% dos Tweets analizados tiveram o feedback positivo em quanto 14.2% negativo. Já nos EUA o resultado foi ainda melhor com 100% de feedback positivo. \n",
    "Novamente, esses dados foram gerandos com apenas 1500 Tweets devido a limitação da conta free de desenvolvedor, mas mesmo com isso podemos ver uma alta portentagem de aceitação do publico para a nova temporada de Drive to Survive.\n",
    "\n",
    "# Conclusão \n",
    "\n",
    "Muitas industrias podem se beneficiar do uso de Machine Learning para aprimorar a entrega de seus serviços ou produtos para seu clientes, gerando maior feedback e interação com o mesmo. Usando DS a empresa terá diversos insights que não eram possiveis antes, pois a manipulação e analize dos dados deve ser feita de uma forma customizada para atender as necessidades e objetivos da campanha.\n",
    "\n",
    "Este projeto é uma introdução básica de analise de sentimento, no qual foi explorado o sentimento do publico alvo para a nova temporada de um produto de mídia chamado Drive to Survive. Podemos ver as diversas localizações que apareceram durante a exploração dos dados, mesmo ultilizando poucos Tweets devido a limitação da conta de desenvolvedor no Twitter. Mas que no qual o objetivo foi visualizar melhor quais foram os mecanismos usados para fazer esta exploração e analise dos dados."
   ]
  },
  {
   "cell_type": "code",
   "execution_count": null,
   "metadata": {},
   "outputs": [],
   "source": []
  }
 ],
 "metadata": {
  "kernelspec": {
   "display_name": "Python 3",
   "language": "python",
   "name": "python3"
  },
  "language_info": {
   "codemirror_mode": {
    "name": "ipython",
    "version": 3
   },
   "file_extension": ".py",
   "mimetype": "text/x-python",
   "name": "python",
   "nbconvert_exporter": "python",
   "pygments_lexer": "ipython3",
   "version": "3.8.5"
  }
 },
 "nbformat": 4,
 "nbformat_minor": 2
}
